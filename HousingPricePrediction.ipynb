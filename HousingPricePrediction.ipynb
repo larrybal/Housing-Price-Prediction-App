{
 "cells": [
  {
   "cell_type": "code",
   "execution_count": null,
   "id": "0f660995-35f7-4206-b46f-ebe1f3b012e3",
   "metadata": {},
   "outputs": [],
   "source": [
    "import numpy as np\n",
    "import pandas as pd\n",
    "import matplotlib.pyplot as plt\n",
    "import seaborn as sns\n",
    "from sklearn.preprocessing import StandardScaler\n",
    "from sklearn.model_selection import GridSearchCV, train_test_split\n",
    "from sklearn.metrics import mean_absolute_error, mean_squared_error\n",
    "from sklearn.preprocessing import LabelEncoder\n",
    "from sklearn.linear_model import LinearRegression\n",
    "from sklearn.neighbors import KNeighborsRegressor\n",
    "from sklearn.tree import DecisionTreeRegressor\n",
    "from sklearn.ensemble import RandomForestRegressor\n",
    "\n",
    "dataset = pd.read_csv(\"realtor-data.zip.csv\")"
   ]
  },
  {
   "cell_type": "code",
   "execution_count": null,
   "id": "dfff2ef3-1429-4567-995c-42f032003303",
   "metadata": {},
   "outputs": [],
   "source": [
    "dataset.head()"
   ]
  },
  {
   "cell_type": "code",
   "execution_count": null,
   "id": "6f65d5cd-b2e8-4371-afdc-2e02246d3758",
   "metadata": {},
   "outputs": [],
   "source": [
    "dataset.isna().sum().sort_values(ascending=False)"
   ]
  },
  {
   "cell_type": "code",
   "execution_count": null,
   "id": "76d782f2-bc2c-4c41-8dde-eb9d8a365b73",
   "metadata": {},
   "outputs": [],
   "source": [
    "dataset = dataset[[\"bed\", \"bath\", \"house_size\", \"acre_lot\", \"price\"]]\n",
    "dataset = dataset.rename({\"bed\": \"Bedrooms\"}, axis = 1)\n",
    "dataset = dataset.rename({\"bath\": \"Bathrooms\"}, axis = 1)\n",
    "dataset = dataset.rename({\"house_size\": \"Square Feet\"}, axis = 1)\n",
    "dataset = dataset.rename({\"acre_lot\": \"Acres\"}, axis = 1)\n",
    "dataset = dataset.rename({\"price\": \"Housing Price\"}, axis = 1)\n",
    "dataset.head()"
   ]
  },
  {
   "cell_type": "code",
   "execution_count": null,
   "id": "c31dcf85-0115-4f45-a4c7-50aa7972a9e7",
   "metadata": {},
   "outputs": [],
   "source": [
    "dataset = dataset.drop(dataset[dataset[\"Housing Price\"].isnull()].index)"
   ]
  },
  {
   "cell_type": "code",
   "execution_count": null,
   "id": "75311222-aaa1-4fdc-b2b8-c3db231bdb8f",
   "metadata": {},
   "outputs": [],
   "source": [
    "dataset = dataset[~(dataset.isna().sum(axis=1) >= 2)]"
   ]
  },
  {
   "cell_type": "code",
   "execution_count": null,
   "id": "96c5a3d8-9b98-4ad6-94be-bb877afd1193",
   "metadata": {},
   "outputs": [],
   "source": [
    "((dataset.isna().sum() / len(dataset)) * 100).sort_values(ascending=False)"
   ]
  },
  {
   "cell_type": "code",
   "execution_count": null,
   "id": "f516d73e-7085-4e63-9ada-5dd3766203c8",
   "metadata": {},
   "outputs": [],
   "source": [
    "dataset = dataset.drop(dataset[dataset['Bedrooms'].isnull()].index, axis=0)\n",
    "dataset = dataset.drop(dataset[dataset['Bathrooms'].isnull()].index, axis=0)"
   ]
  },
  {
   "cell_type": "code",
   "execution_count": null,
   "id": "c1ac1723-cddd-47fe-852b-05c7f227bc79",
   "metadata": {},
   "outputs": [],
   "source": [
    "plt.figure(figsize=(10,6))\n",
    "sns.boxplot(data=dataset, orient=\"h\");"
   ]
  },
  {
   "cell_type": "code",
   "execution_count": null,
   "id": "559ff5b3-7955-4cb6-95eb-0dd6671ec25e",
   "metadata": {},
   "outputs": [],
   "source": [
    "Q1 = np.percentile(dataset[\"Housing Price\"], 25)\n",
    "Q1\n",
    "Q3 = np.percentile(dataset[\"Housing Price\"], 75)\n",
    "IQR = Q3 - Q1\n",
    "\n",
    "upper_outlier_threshold = Q3 + 1.5 * IQR\n",
    "upper_outlier_threshold"
   ]
  },
  {
   "cell_type": "code",
   "execution_count": null,
   "id": "58040175-8c6f-4ddd-8a1d-dc272a95fc3c",
   "metadata": {},
   "outputs": [],
   "source": [
    "len(dataset[dataset[\"Housing Price\"]>upper_outlier_threshold]) / len(dataset[\"Housing Price\"].index) * 100"
   ]
  },
  {
   "cell_type": "code",
   "execution_count": null,
   "id": "62d40784-458e-4519-a84b-25d2df96fc81",
   "metadata": {},
   "outputs": [],
   "source": [
    "dataset = dataset.drop(dataset[dataset[\"Housing Price\"]>upper_outlier_threshold].index)"
   ]
  },
  {
   "cell_type": "code",
   "execution_count": null,
   "id": "54436cec-fc7d-4076-96ea-421c12d47a62",
   "metadata": {},
   "outputs": [],
   "source": [
    "sns.boxplot(data=dataset, x=\"Housing Price\")"
   ]
  },
  {
   "cell_type": "code",
   "execution_count": null,
   "id": "d633685a-b5f6-4f9c-a874-7cf419435d02",
   "metadata": {},
   "outputs": [],
   "source": [
    "sns.boxplot(data=dataset, x=\"Acres\")"
   ]
  },
  {
   "cell_type": "code",
   "execution_count": null,
   "id": "22a3de62-47b9-4eb6-b28e-9d58a3032c0d",
   "metadata": {},
   "outputs": [],
   "source": [
    "len(dataset[dataset[\"Acres\"] > 2.12]) / len(dataset[\"Acres\"].index) * 100"
   ]
  },
  {
   "cell_type": "code",
   "execution_count": null,
   "id": "ea29daef-ee49-4f4d-80d6-64ce06d65978",
   "metadata": {},
   "outputs": [],
   "source": [
    "dataset = dataset.drop(dataset[dataset[\"Acres\"] > 2.12].index, axis=0)"
   ]
  },
  {
   "cell_type": "code",
   "execution_count": null,
   "id": "fc45b57c-1c18-4239-a211-49f872983e91",
   "metadata": {},
   "outputs": [],
   "source": [
    "sns.boxplot(data=dataset, x=\"Acres\")"
   ]
  },
  {
   "cell_type": "code",
   "execution_count": null,
   "id": "ed5af8fc-f459-4ec0-adf0-5f41b469d672",
   "metadata": {},
   "outputs": [],
   "source": [
    "sns.boxplot(data=dataset, x=\"Square Feet\")"
   ]
  },
  {
   "cell_type": "code",
   "execution_count": null,
   "id": "183d6028-088a-4584-a54c-05df18420f0e",
   "metadata": {},
   "outputs": [],
   "source": [
    "len(dataset[dataset[\"Square Feet\"] >= 4098.5]) / len(dataset[\"Square Feet\"].index) * 100"
   ]
  },
  {
   "cell_type": "code",
   "execution_count": null,
   "id": "15ae86d6-677d-4ddf-8fa5-b12918b350e3",
   "metadata": {},
   "outputs": [],
   "source": [
    "dataset = dataset.drop(dataset[dataset[\"Square Feet\"] >= 4098.5].index, axis=0)"
   ]
  },
  {
   "cell_type": "code",
   "execution_count": null,
   "id": "0944f3ac-ec2f-41d1-82c5-dff03a37d185",
   "metadata": {},
   "outputs": [],
   "source": [
    "sns.boxplot(data=dataset, x=\"Square Feet\")"
   ]
  },
  {
   "cell_type": "code",
   "execution_count": null,
   "id": "6cdb35db-6043-49d9-b61a-3f5c015005e9",
   "metadata": {},
   "outputs": [],
   "source": [
    "dataset.info()"
   ]
  },
  {
   "cell_type": "code",
   "execution_count": null,
   "id": "0252c7fc-29c8-4369-8574-f4e02ebc9654",
   "metadata": {},
   "outputs": [],
   "source": [
    "dataset.isnull().sum()"
   ]
  },
  {
   "cell_type": "code",
   "execution_count": null,
   "id": "f2d7c334-836b-423e-ad0e-1cf8b5a0d656",
   "metadata": {},
   "outputs": [],
   "source": [
    "((dataset.isna().sum() / len(dataset)) * 100).sort_values(ascending=False)"
   ]
  },
  {
   "cell_type": "code",
   "execution_count": null,
   "id": "3bda4f36-af4c-4876-8ae1-839f71ac62c1",
   "metadata": {},
   "outputs": [],
   "source": [
    "dataset = dataset.drop(dataset[dataset['Bedrooms'].isnull()].index, axis=0)\n",
    "dataset = dataset.drop(dataset[dataset['Bathrooms'].isnull()].index, axis=0)"
   ]
  },
  {
   "cell_type": "code",
   "execution_count": null,
   "id": "6f2e3478-c55a-432e-9331-cb51a2681db8",
   "metadata": {},
   "outputs": [],
   "source": [
    "dataset.isna().sum().sort_values(ascending=False)"
   ]
  },
  {
   "cell_type": "code",
   "execution_count": null,
   "id": "ea4fe211-39ff-496a-940d-740511c4c4b5",
   "metadata": {},
   "outputs": [],
   "source": [
    "new_dataset = dataset[dataset[\"Square Feet\"].notna()]"
   ]
  },
  {
   "cell_type": "code",
   "execution_count": null,
   "id": "1e73e52a-74bb-47ee-ab94-69de4e2147b4",
   "metadata": {},
   "outputs": [],
   "source": [
    "filled_dataset = new_dataset.dropna(subset=[\"Acres\"])\n",
    "missing_dataset = dataset[dataset[\"Acres\"].isna()]\n",
    "predict_dataset = missing_dataset.drop(\"Acres\", axis=1)"
   ]
  },
  {
   "cell_type": "code",
   "execution_count": null,
   "id": "b2117cf3-f595-4543-ab22-9ffd8c06b319",
   "metadata": {},
   "outputs": [],
   "source": [
    "scaler = StandardScaler()\n",
    "scaler.fit(filled_dataset.drop(\"Acres\", axis=1))\n",
    "predict_dataset = scaler.transform(predict_dataset)"
   ]
  },
  {
   "cell_type": "code",
   "execution_count": null,
   "id": "c25f7a9a-f307-4c98-9b2a-e9ad1c1aef20",
   "metadata": {},
   "outputs": [],
   "source": [
    "X = scaler.transform(filled_dataset.drop(\"Acres\", axis=1))\n",
    "y = filled_dataset[\"Acres\"]"
   ]
  },
  {
   "cell_type": "code",
   "execution_count": null,
   "id": "6ec75dd7-6111-4793-a803-bd3ac5a9d3c9",
   "metadata": {},
   "outputs": [],
   "source": [
    "KNN = KNeighborsRegressor()\n",
    "\n",
    "n_list = list(range(1,10))\n",
    "param_grid_knn = {\"n_neighbors\": n_list}"
   ]
  },
  {
   "cell_type": "code",
   "execution_count": null,
   "id": "c8de499a-807d-4701-a696-06e513e13ef6",
   "metadata": {},
   "outputs": [],
   "source": [
    "grid_knn = GridSearchCV(KNN, param_grid_knn)"
   ]
  },
  {
   "cell_type": "code",
   "execution_count": null,
   "id": "b7a28887-ce84-4de0-9dae-c7c66a6be12a",
   "metadata": {},
   "outputs": [],
   "source": [
    "grid_knn.fit(X, y)"
   ]
  },
  {
   "cell_type": "code",
   "execution_count": null,
   "id": "69726c23-adf0-40e2-ba1d-b1f8b4098a6e",
   "metadata": {},
   "outputs": [],
   "source": [
    "grid_knn.best_estimator_.get_params()"
   ]
  },
  {
   "cell_type": "code",
   "execution_count": null,
   "id": "02c1051e-c3d5-47b4-b79a-5a15ab544a05",
   "metadata": {},
   "outputs": [],
   "source": [
    "preds = grid_knn.predict(predict_dataset)"
   ]
  },
  {
   "cell_type": "code",
   "execution_count": null,
   "id": "33e2e682-f7a1-4c57-8b6a-08798c6846f8",
   "metadata": {},
   "outputs": [],
   "source": [
    "dataset.loc[dataset[\"Acres\"].isna(), \"Acres\"] = preds"
   ]
  },
  {
   "cell_type": "code",
   "execution_count": null,
   "id": "40b67e4b-84f5-432b-9c98-fa3e20db6571",
   "metadata": {},
   "outputs": [],
   "source": [
    "((dataset.isna().sum() / len(dataset)) * 100).sort_values(ascending=False)"
   ]
  },
  {
   "cell_type": "code",
   "execution_count": null,
   "id": "bcde3a4b-e81b-49e9-9603-c71ad77161fe",
   "metadata": {},
   "outputs": [],
   "source": [
    "filled_dataset = dataset.dropna(subset=[\"Square Feet\"])\n",
    "missing_dataset = dataset[dataset[\"Square Feet\"].isna()]\n",
    "predict_dataset = missing_dataset.drop(\"Square Feet\", axis=1)"
   ]
  },
  {
   "cell_type": "code",
   "execution_count": null,
   "id": "e78ab415-6040-4692-9a03-c8b22e5bd448",
   "metadata": {},
   "outputs": [],
   "source": [
    "scaler = StandardScaler()\n",
    "scaler.fit(filled_dataset.drop(\"Square Feet\", axis=1))\n",
    "\n",
    "predict_dataset = scaler.transform(predict_dataset)"
   ]
  },
  {
   "cell_type": "code",
   "execution_count": null,
   "id": "c745fa63-e405-402e-9d27-8ff29bd8eba0",
   "metadata": {},
   "outputs": [],
   "source": [
    "X = scaler.transform(filled_dataset.drop(\"Square Feet\", axis=1))\n",
    "y = filled_dataset[\"Square Feet\"]"
   ]
  },
  {
   "cell_type": "code",
   "execution_count": null,
   "id": "8d2fcfc4-ce58-4538-9409-1facac0c6b3a",
   "metadata": {},
   "outputs": [],
   "source": [
    "KNN = KNeighborsRegressor()\n",
    "\n",
    "n_list = list(range(1,10))\n",
    "param_grid_knn = {\"n_neighbors\": n_list}\n",
    "\n",
    "grid_knn = GridSearchCV(KNN, param_grid_knn)"
   ]
  },
  {
   "cell_type": "code",
   "execution_count": null,
   "id": "908924fe-bb9e-469e-a6c4-5ba9f692e7ed",
   "metadata": {},
   "outputs": [],
   "source": [
    "grid_knn.fit(X, y)"
   ]
  },
  {
   "cell_type": "code",
   "execution_count": null,
   "id": "916e8458-75b3-495a-bf41-c8968aa0485a",
   "metadata": {},
   "outputs": [],
   "source": [
    "grid_knn.best_estimator_.get_params()"
   ]
  },
  {
   "cell_type": "code",
   "execution_count": null,
   "id": "384c60a6-b6fa-4403-bcd0-1042b7bbe74b",
   "metadata": {},
   "outputs": [],
   "source": [
    "preds = grid_knn.predict(predict_dataset)"
   ]
  },
  {
   "cell_type": "code",
   "execution_count": null,
   "id": "c43d0e4d-ddcb-410e-9897-261a338e2214",
   "metadata": {},
   "outputs": [],
   "source": [
    "dataset.loc[dataset[\"Square Feet\"].isna(), \"Square Feet\"] = preds"
   ]
  },
  {
   "cell_type": "code",
   "execution_count": null,
   "id": "717be490-3682-4c1b-9692-c7c827ec227f",
   "metadata": {},
   "outputs": [],
   "source": [
    "dataset.info()"
   ]
  },
  {
   "cell_type": "code",
   "execution_count": null,
   "id": "19d77a78-3891-4e31-ab55-4be8caecc20a",
   "metadata": {},
   "outputs": [],
   "source": [
    "sns.pairplot(dataset)"
   ]
  },
  {
   "cell_type": "code",
   "execution_count": null,
   "id": "ed976a69-5dda-420a-a59b-f54107c79b1e",
   "metadata": {},
   "outputs": [],
   "source": [
    "plt.title(\"Correlation Heatmap\")\n",
    "sns.heatmap(dataset.corr(), annot=True, linewidths=0.5)"
   ]
  },
  {
   "cell_type": "code",
   "execution_count": null,
   "id": "54960cb6-a083-4182-983b-e6d3fdf7c3d0",
   "metadata": {},
   "outputs": [],
   "source": [
    "sns.countplot(data=dataset, x=\"Bathrooms\")\n",
    "plt.xticks(rotation=90);"
   ]
  },
  {
   "cell_type": "code",
   "execution_count": null,
   "id": "85a89039-482d-486e-9471-635720543318",
   "metadata": {},
   "outputs": [],
   "source": [
    "sns.countplot(data=dataset, x=\"Bedrooms\")\n",
    "plt.xticks(rotation=90);"
   ]
  },
  {
   "cell_type": "code",
   "execution_count": null,
   "id": "19ee9392-d975-4df5-b8b4-cd966ab69046",
   "metadata": {},
   "outputs": [],
   "source": [
    "sns.histplot(data=dataset, x=\"Square Feet\", bins=50)"
   ]
  },
  {
   "cell_type": "code",
   "execution_count": null,
   "id": "cd04cd7f-03a7-47c9-bd4c-4bbad204996b",
   "metadata": {},
   "outputs": [],
   "source": [
    "sns.histplot(data=dataset, x=\"Housing Price\", bins=50)"
   ]
  },
  {
   "cell_type": "code",
   "execution_count": null,
   "id": "3a4189bb-0b36-4da9-9d72-4553fbd2e0a6",
   "metadata": {},
   "outputs": [],
   "source": [
    "le_bathrooms = LabelEncoder()\n",
    "combined_data = pd.concat([dataset['Bathrooms']], axis=0)\n",
    "le_bathrooms.fit(combined_data.astype(str))\n",
    "dataset[\"Bathrooms\"].unique()"
   ]
  },
  {
   "cell_type": "code",
   "execution_count": null,
   "id": "a7ad6180-89af-4ecc-b00a-b40eae015ab1",
   "metadata": {},
   "outputs": [],
   "source": [
    "le_bedrooms = LabelEncoder()\n",
    "combined_data = pd.concat([dataset['Bedrooms']], axis=0)\n",
    "le_bedrooms.fit(combined_data.astype(str))\n",
    "dataset[\"Bedrooms\"].unique()"
   ]
  },
  {
   "cell_type": "code",
   "execution_count": null,
   "id": "4fa1abfb-5a04-4d28-ba53-750fc7111816",
   "metadata": {},
   "outputs": [],
   "source": [
    "X = dataset.drop(\"Housing Price\", axis=1)\n",
    "y = dataset[\"Housing Price\"]"
   ]
  },
  {
   "cell_type": "code",
   "execution_count": null,
   "id": "92fc3b1d-63aa-409b-9b43-31cd26482cd8",
   "metadata": {},
   "outputs": [],
   "source": [
    "linear_reg = LinearRegression()\n",
    "linear_reg.fit(X, y.values)"
   ]
  },
  {
   "cell_type": "code",
   "execution_count": null,
   "id": "047dde45-ae2f-42ce-b282-70e3d9a19c6a",
   "metadata": {},
   "outputs": [],
   "source": [
    "y_pred = linear_reg.predict(X)"
   ]
  },
  {
   "cell_type": "code",
   "execution_count": null,
   "id": "79fc3f10-af2f-427b-90f4-f39adc2f5eb3",
   "metadata": {},
   "outputs": [],
   "source": [
    "dec_tree_reg = DecisionTreeRegressor(random_state=0)\n",
    "dec_tree_reg.fit(X, y.values)"
   ]
  },
  {
   "cell_type": "code",
   "execution_count": null,
   "id": "5305795b-ef7c-407d-9bdc-edfbb365ee3b",
   "metadata": {},
   "outputs": [],
   "source": [
    "y_pred = dec_tree_reg.predict(X)"
   ]
  },
  {
   "cell_type": "code",
   "execution_count": null,
   "id": "ae3f4aca-5cd8-49af-bad0-906d27ba0e5e",
   "metadata": {},
   "outputs": [],
   "source": [
    "error = (mean_absolute_error(y, y_pred))\n",
    "print(\"${:,.02f}\".format(error))"
   ]
  },
  {
   "cell_type": "code",
   "execution_count": null,
   "id": "7f19de23-9d6a-4253-ade1-9bbd9137dfa4",
   "metadata": {},
   "outputs": [],
   "source": [
    "random_forest_reg = RandomForestRegressor(random_state=0)\n",
    "random_forest_reg.fit(X, y.values)"
   ]
  },
  {
   "cell_type": "code",
   "execution_count": null,
   "id": "0fbb0630-02cc-43df-b72a-3994c1f7ff77",
   "metadata": {},
   "outputs": [],
   "source": [
    "y_pred = random_forest_reg.predict(X)"
   ]
  },
  {
   "cell_type": "code",
   "execution_count": null,
   "id": "32e8ae16-3dd7-4f0e-8415-e93a8a29e3be",
   "metadata": {},
   "outputs": [],
   "source": [
    "error = (mean_absolute_error(y, y_pred))\n",
    "print(\"${:,.02f}\".format(error))"
   ]
  },
  {
   "cell_type": "code",
   "execution_count": null,
   "id": "0e017388-b7ca-449f-a328-1d82209fdfea",
   "metadata": {},
   "outputs": [],
   "source": [
    "max_depth = [None, 2,4,6,8,10,12]\n",
    "parameters = {\"max_depth\": max_depth}\n",
    "\n",
    "regressor = DecisionTreeRegressor(random_state=0)\n",
    "gs = GridSearchCV(regressor, parameters, scoring='neg_mean_squared_error')\n",
    "gs.fit(X, y.values)"
   ]
  },
  {
   "cell_type": "code",
   "execution_count": null,
   "id": "37c0c16a-7ef7-4a16-8fb3-531c45de7ddb",
   "metadata": {},
   "outputs": [],
   "source": [
    "regressor = gs.best_estimator_\n",
    "\n",
    "regressor.fit(X, y.values)\n",
    "y_pred = regressor.predict(X)\n",
    "error = (mean_absolute_error(y, y_pred))\n",
    "print(\"${:,.02f}\".format(error))"
   ]
  },
  {
   "cell_type": "code",
   "execution_count": null,
   "id": "f647c920-3301-477d-a529-e8fa9b3ad1de",
   "metadata": {},
   "outputs": [],
   "source": [
    "X"
   ]
  },
  {
   "cell_type": "code",
   "execution_count": null,
   "id": "1446cb82-1ed6-4045-baed-49ed4deaab75",
   "metadata": {},
   "outputs": [],
   "source": [
    "X = np.array([[\"3\", \"3\", \"2000\", \"0.2\"]])\n",
    "X"
   ]
  },
  {
   "cell_type": "code",
   "execution_count": null,
   "id": "c6dbad58-f4ce-411b-beb1-e5a1442dc33f",
   "metadata": {},
   "outputs": [],
   "source": [
    "X[:, 0] = le_bathrooms.fit_transform(X[:,0])\n",
    "X[:, 1] = le_bedrooms.fit_transform(X[:,1])\n",
    "X = X.astype(float)\n",
    "X\n",
    "print(X.shape) "
   ]
  },
  {
   "cell_type": "code",
   "execution_count": null,
   "id": "f701d4f6-00c9-4dcd-ba64-0e7763b119ef",
   "metadata": {},
   "outputs": [],
   "source": [
    "y_pred = regressor.predict(dataset, check_input=False)\n",
    "y_pred"
   ]
  },
  {
   "cell_type": "code",
   "execution_count": null,
   "id": "01ce4cea-003d-4f9a-8830-a27e02fd66b4",
   "metadata": {},
   "outputs": [],
   "source": [
    "import pickle"
   ]
  },
  {
   "cell_type": "code",
   "execution_count": null,
   "id": "315d6f5f-1d1a-4201-b655-32f8cca1361c",
   "metadata": {},
   "outputs": [],
   "source": [
    "data = {\"model\": regressor, \"le_bathrooms\": le_bathrooms, \"le_bedrooms\": le_bedrooms}\n",
    "with open('saved_steps.pkl', 'wb') as file:\n",
    "    pickle.dump(data, file)"
   ]
  },
  {
   "cell_type": "code",
   "execution_count": null,
   "id": "e6cfcf25-2cb3-4102-8747-ddc1ad483fe4",
   "metadata": {},
   "outputs": [],
   "source": [
    "with open('saved_steps.pkl', 'rb') as file:\n",
    "    data = pickle.load(file)\n",
    "\n",
    "regressor_loaded = data[\"model\"]\n",
    "le_bathrooms = data[\"le_bathrooms\"]\n",
    "le_bedrooms = data[\"le_bedrooms\"]"
   ]
  },
  {
   "cell_type": "code",
   "execution_count": null,
   "id": "ffdb5d04-14c5-492d-8900-50ace5bd8402",
   "metadata": {},
   "outputs": [],
   "source": [
    "y_pred = regressor_loaded.predict(X)\n",
    "y_pred"
   ]
  },
  {
   "cell_type": "code",
   "execution_count": null,
   "id": "73c70257-07e2-45f7-8ea6-a04778ce5199",
   "metadata": {},
   "outputs": [],
   "source": []
  },
  {
   "cell_type": "code",
   "execution_count": null,
   "id": "d5ff1c7e-7cb7-482a-a249-7468eb6215c2",
   "metadata": {},
   "outputs": [],
   "source": []
  }
 ],
 "metadata": {
  "kernelspec": {
   "display_name": "Python 3 (ipykernel)",
   "language": "python",
   "name": "python3"
  },
  "language_info": {
   "codemirror_mode": {
    "name": "ipython",
    "version": 3
   },
   "file_extension": ".py",
   "mimetype": "text/x-python",
   "name": "python",
   "nbconvert_exporter": "python",
   "pygments_lexer": "ipython3",
   "version": "3.9.6"
  }
 },
 "nbformat": 4,
 "nbformat_minor": 5
}
